{
 "cells": [
  {
   "cell_type": "markdown",
   "metadata": {},
   "source": [
    "<img style=\"float: left; margin: 30px 15px 15px 15px;\" src=\"https://pngimage.net/wp-content/uploads/2018/06/logo-iteso-png-5.png\" width=\"300\" height=\"500\" /> \n",
    "    \n",
    "    \n",
    "### <font color='navy'> Simulación de procesos financieros. \n",
    "\n",
    "**Nombres:** Andrés Lares Barragán.\n",
    "\n",
    "**Fecha:** 01 de febrero del 2021.\n",
    "\n",
    "**Expediente** : 724055.\n",
    "**Profesor:** Oscar David Jaramillo Zuluaga.\n",
    "\n",
    "# Tarea 1: Clase 2"
   ]
  },
  {
   "cell_type": "markdown",
   "metadata": {},
   "source": [
    "## Creación de Proyecto Colaborativo\n",
    " - El archivo debe realizarse en parejas y sólo uno de los dos debe crear en su cuenta de Github un repositorio con el nombre ProyectoConjunto_APELLIDO1_APELLIDO2. A la persona que creó el repositorio la llamaremos (ESTUDIANTE 1 ). El APELLIDO se debe de escribir (Iniciales del nombre y primer apellido), por ejemplo si yo creara el archivo lo debería de nombrar ProyectoConjunto_ODJaramillo.\n",
    " - Posteriormente, desde la cuenta del (ESTUDIANTE 2), 'aquel que no creó el repositorio anterior', ingresar al perfil del ESTUDIANTE 1 y en el repositorio creado en el paso 1, realizar un \"fork\" de este repositorio en su perfil, y además realizar los pasos en Gitkraken para hacer dicho repositorio \"Remoto (REMOTE)\" VER DICHO PROCEDIMIENTO EN LA CLASE Clase2_GitTurorial2.\n",
    " - Luego de realizados los pasos 1 y 2, el ESTUDIANTE 1 y ESTUDIANTE 2, desde su computador realizar un clone del repositorio creado en el numeral 1 en la carpeta que cada quién haya asignado para el curso en su computador.\n",
    " - Luego desde Jupyter el ESTUDIANTE 1, crea un nuevo notebook en el repositorio del paso 3.\n",
    " - En este nuevo notebook el ESTUDIANTE 1 y ESTUDIANTE 2, deben realizar una presentación describiendo sus expectativas del curso y la transcipción de la Figura 1 y Figura 2 respectivamente, haciendo uso de la sintaxis Markdown. Recuerden definir unas celdas donde cada usuario modificará el cuaderno de python para evitar futuros conflictos."
   ]
  },
  {
   "cell_type": "markdown",
   "metadata": {},
   "source": [
    "Estudiante 1: <span style=\"color:red\"> **Lares1**</span> \n",
    "\n",
    "Estudiante 2: <span style=\"color:blue\"> **AndresLaresBarragan** </span>:\n",
    "   \n",
    "   Hasta ahora, las clases de programación que he llevado no le han dado tanto énfasis a que los estudiantes aprendan a programar de manera correcta. Mi expectativa de esta clase es elevar mis habilidades de programación a tal grado que pueda ser útil en el ámbito profesional. Me interesa bastante aprender a simular el comportamiento de fenómenos financieros.\n"
   ]
  },
  {
   "cell_type": "markdown",
   "metadata": {},
   "source": [
    "### Ejercicio 1: <span style=\"color:red\">Estudiante 1</span> debe transcribir Figura 1."
   ]
  },
  {
   "cell_type": "code",
   "execution_count": null,
   "metadata": {},
   "outputs": [],
   "source": [
    "# Código de solución \n",
    ".\n",
    ".\n",
    ".\n",
    ".\n"
   ]
  },
  {
   "cell_type": "markdown",
   "metadata": {},
   "source": [
    "### Ejercicio 2:<span style=\"color:blue\"> Estudiante 2</span> debe transcribir Figura 1."
   ]
  },
  {
   "cell_type": "code",
   "execution_count": null,
   "metadata": {},
   "outputs": [],
   "source": []
  }
 ],
 "metadata": {
  "kernelspec": {
   "display_name": "Python 3",
   "language": "python",
   "name": "python3"
  },
  "language_info": {
   "codemirror_mode": {
    "name": "ipython",
    "version": 3
   },
   "file_extension": ".py",
   "mimetype": "text/x-python",
   "name": "python",
   "nbconvert_exporter": "python",
   "pygments_lexer": "ipython3",
   "version": "3.8.5"
  }
 },
 "nbformat": 4,
 "nbformat_minor": 2
}
